{
 "cells": [
  {
   "cell_type": "code",
   "execution_count": 1,
   "metadata": {},
   "outputs": [
    {
     "name": "stdout",
     "output_type": "stream",
     "text": [
      "Sorry. This constituency doesn't exsist\n",
      "Sorry. This constituency doesn't exsist\n"
     ]
    }
   ],
   "source": [
    "from requests import session\n",
    "import os.path\n",
    "import subprocess\n",
    "import pickle\n",
    "import sys\n",
    "from bs4 import BeautifulSoup, Comment\n",
    "import csv\n",
    "import html.parser\n",
    "# import urllib2\n",
    "\n",
    "with session() as c:\n",
    "   \n",
    "        with open(\"sample_data.csv\",\"a+\") as a:\n",
    "            fieldnames = ['Constituency','Candidate','Party','Criminal_Cases','Education','Age','Total_Assets','Liablities']\n",
    "            writer = csv.DictWriter(a, fieldnames=fieldnames)\n",
    "            writer.writeheader()\n",
    "            for i in range(1,69):\n",
    "                try:\n",
    "                    state_url = \"http://myneta.info/HimachalPradesh2017/index.php?action=show_candidates&constituency_id=\"+str(i)\n",
    "                    response = c.get(state_url)\n",
    "                    soup =  BeautifulSoup(response.content, \"html.parser\")\n",
    "                    main = soup.find('div',{\"class\" :\"title\"})\n",
    "                    constituency_name = str(main.text.encode('utf-8').strip()).split(\"-\")[1].split(\":\")[0][1:]\n",
    "                    table = soup.find('table',{\"id\":\"table1\"})\n",
    "                    cand_attributes_wrap = table.findAll('td')\n",
    "                    for cand in range(0,len(cand_attributes_wrap),7):\n",
    "                        writer.writerow({'Constituency':constituency_name,\n",
    "                                             'Candidate':cand_attributes_wrap[cand].get_text(),\n",
    "                                             'Party':cand_attributes_wrap[cand+1].get_text(),\n",
    "                                             'Criminal_Cases':cand_attributes_wrap[cand+2].get_text(),\n",
    "                                             'Education':cand_attributes_wrap[cand+3].get_text(),\n",
    "                                             'Age':cand_attributes_wrap[cand+4].get_text(),\n",
    "                                             'Total_Assets':cand_attributes_wrap[cand+5].get_text().split('~')[0].split('Rs\\xa0')[1].split(\" \")[0],\n",
    "                                             'Liablities':cand_attributes_wrap[cand+6].get_text().split('~')[0].split('Rs\\xa0')[1].split(\" \")[0]\n",
    "                                            });  \n",
    "                except:\n",
    "                    print(\"Sorry. This constituency doesn't exsist\")\n",
    "                \n"
   ]
  },
  {
   "cell_type": "code",
   "execution_count": null,
   "metadata": {
    "collapsed": true
   },
   "outputs": [],
   "source": []
  },
  {
   "cell_type": "code",
   "execution_count": null,
   "metadata": {
    "collapsed": true
   },
   "outputs": [],
   "source": []
  },
  {
   "cell_type": "code",
   "execution_count": null,
   "metadata": {
    "collapsed": true
   },
   "outputs": [],
   "source": []
  },
  {
   "cell_type": "code",
   "execution_count": null,
   "metadata": {
    "collapsed": true
   },
   "outputs": [],
   "source": []
  }
 ],
 "metadata": {
  "kernelspec": {
   "display_name": "Python 3",
   "language": "python",
   "name": "python3"
  },
  "language_info": {
   "codemirror_mode": {
    "name": "ipython",
    "version": 3
   },
   "file_extension": ".py",
   "mimetype": "text/x-python",
   "name": "python",
   "nbconvert_exporter": "python",
   "pygments_lexer": "ipython3",
   "version": "3.6.1"
  }
 },
 "nbformat": 4,
 "nbformat_minor": 2
}
